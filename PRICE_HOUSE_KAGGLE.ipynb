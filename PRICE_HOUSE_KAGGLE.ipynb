{
 "cells": [
  {
   "cell_type": "markdown",
   "id": "c191d355",
   "metadata": {},
   "source": [
    "# House Prices Regression\n",
    "https://www.kaggle.com/competitions/house-prices-advanced-regression-techniques/data"
   ]
  },
  {
   "cell_type": "code",
   "execution_count": 1,
   "id": "1de792ee",
   "metadata": {},
   "outputs": [],
   "source": [
    "import numpy as np\n",
    "import pandas as pd\n",
    "import matplotlib.pyplot as plt\n",
    "import random\n",
    "import seaborn as sns\n",
    "from sklearn.model_selection import train_test_split\n",
    "from sklearn.linear_model import LinearRegression\n",
    "from sklearn.ensemble import IsolationForest\n",
    "import sklearn.metrics as metrics\n",
    "from sklearn.ensemble import GradientBoostingRegressor\n",
    "import statsmodels.api as sm\n",
    "from statsmodels.stats.diagnostic import het_breuschpagan\n",
    "from statsmodels.stats.diagnostic import het_white\n",
    "%matplotlib inline"
   ]
  },
  {
   "cell_type": "markdown",
   "id": "b7b525bf",
   "metadata": {},
   "source": [
    "# LOAD DATABASE"
   ]
  },
  {
   "cell_type": "code",
   "execution_count": 2,
   "id": "871f3e20",
   "metadata": {},
   "outputs": [],
   "source": [
    "train= pd.read_csv(r'C:\\Users\\sousa\\Desktop\\Outros\\py projects\\Kaggle\\house-prices-advanced-regression-techniques\\train.csv')\n",
    "test= pd.read_csv(r'C:\\Users\\sousa\\Desktop\\Outros\\py projects\\Kaggle\\house-prices-advanced-regression-techniques\\test.csv')"
   ]
  },
  {
   "cell_type": "code",
   "execution_count": 3,
   "id": "49ed7308",
   "metadata": {},
   "outputs": [
    {
     "name": "stdout",
     "output_type": "stream",
     "text": [
      "PoolQC         0.995205\n",
      "MiscFeature    0.963014\n",
      "Alley          0.937671\n",
      "Fence          0.807534\n",
      "FireplaceQu    0.472603\n",
      "                 ...   \n",
      "ExterQual      0.000000\n",
      "Exterior2nd    0.000000\n",
      "Exterior1st    0.000000\n",
      "RoofMatl       0.000000\n",
      "SalePrice      0.000000\n",
      "Length: 81, dtype: float64\n"
     ]
    },
    {
     "data": {
      "image/png": "[encoded data removed]",
      "text/plain": [
       "<Figure size 432x288 with 1 Axes>"
      ]
     },
     "metadata": {
      "needs_background": "light"
     },
     "output_type": "display_data"
    }
   ],
   "source": [
    "sns.heatmap(train.isnull(),yticklabels=False,cbar=False)\n",
    "print(train.isnull().sum().sort_values(ascending=False)/len(train))"
   ]
  },
  {
   "cell_type": "code",
   "execution_count": 4,
   "id": "92bb262a",
   "metadata": {},
   "outputs": [
    {
     "data": {
      "text/html": [
       "<div>\n",
       "<style scoped>\n",
       "    .dataframe tbody tr th:only-of-type {\n",
       "        vertical-align: middle;\n",
       "    }\n",
       "\n",
       "    .dataframe tbody tr th {\n",
       "        vertical-align: top;\n",
       "    }\n",
       "\n",
       "    .dataframe thead th {\n",
       "        text-align: right;\n",
       "    }\n",
       "</style>\n",
       "<table border=\"1\" class=\"dataframe\">\n",
       "  <thead>\n",
       "    <tr style=\"text-align: right;\">\n",
       "      <th></th>\n",
       "      <th>Id</th>\n",
       "      <th>MSSubClass</th>\n",
       "      <th>LotFrontage</th>\n",
       "      <th>LotArea</th>\n",
       "      <th>OverallQual</th>\n",
       "      <th>OverallCond</th>\n",
       "      <th>YearBuilt</th>\n",
       "      <th>YearRemodAdd</th>\n",
       "      <th>MasVnrArea</th>\n",
       "      <th>BsmtFinSF1</th>\n",
       "      <th>...</th>\n",
       "      <th>WoodDeckSF</th>\n",
       "      <th>OpenPorchSF</th>\n",
       "      <th>EnclosedPorch</th>\n",
       "      <th>3SsnPorch</th>\n",
       "      <th>ScreenPorch</th>\n",
       "      <th>PoolArea</th>\n",
       "      <th>MiscVal</th>\n",
       "      <th>MoSold</th>\n",
       "      <th>YrSold</th>\n",
       "      <th>SalePrice</th>\n",
       "    </tr>\n",
       "  </thead>\n",
       "  <tbody>\n",
       "    <tr>\n",
       "      <th>count</th>\n",
       "      <td>1460.000000</td>\n",
       "      <td>1460.000000</td>\n",
       "      <td>1201.000000</td>\n",
       "      <td>1460.000000</td>\n",
       "      <td>1460.000000</td>\n",
       "      <td>1460.000000</td>\n",
       "      <td>1460.000000</td>\n",
       "      <td>1460.000000</td>\n",
       "      <td>1452.000000</td>\n",
       "      <td>1460.000000</td>\n",
       "      <td>...</td>\n",
       "      <td>1460.000000</td>\n",
       "      <td>1460.000000</td>\n",
       "      <td>1460.000000</td>\n",
       "      <td>1460.000000</td>\n",
       "      <td>1460.000000</td>\n",
       "      <td>1460.000000</td>\n",
       "      <td>1460.000000</td>\n",
       "      <td>1460.000000</td>\n",
       "      <td>1460.000000</td>\n",
       "      <td>1460.000000</td>\n",
       "    </tr>\n",
       "    <tr>\n",
       "      <th>mean</th>\n",
       "      <td>730.500000</td>\n",
       "      <td>56.897260</td>\n",
       "      <td>70.049958</td>\n",
       "      <td>10516.828082</td>\n",
       "      <td>6.099315</td>\n",
       "      <td>5.575342</td>\n",
       "      <td>1971.267808</td>\n",
       "      <td>1984.865753</td>\n",
       "      <td>103.685262</td>\n",
       "      <td>443.639726</td>\n",
       "      <td>...</td>\n",
       "      <td>94.244521</td>\n",
       "      <td>46.660274</td>\n",
       "      <td>21.954110</td>\n",
       "      <td>3.409589</td>\n",
       "      <td>15.060959</td>\n",
       "      <td>2.758904</td>\n",
       "      <td>43.489041</td>\n",
       "      <td>6.321918</td>\n",
       "      <td>2007.815753</td>\n",
       "      <td>180921.195890</td>\n",
       "    </tr>\n",
       "    <tr>\n",
       "      <th>std</th>\n",
       "      <td>421.610009</td>\n",
       "      <td>42.300571</td>\n",
       "      <td>24.284752</td>\n",
       "      <td>9981.264932</td>\n",
       "      <td>1.382997</td>\n",
       "      <td>1.112799</td>\n",
       "      <td>30.202904</td>\n",
       "      <td>20.645407</td>\n",
       "      <td>181.066207</td>\n",
       "      <td>456.098091</td>\n",
       "      <td>...</td>\n",
       "      <td>125.338794</td>\n",
       "      <td>66.256028</td>\n",
       "      <td>61.119149</td>\n",
       "      <td>29.317331</td>\n",
       "      <td>55.757415</td>\n",
       "      <td>40.177307</td>\n",
       "      <td>496.123024</td>\n",
       "      <td>2.703626</td>\n",
       "      <td>1.328095</td>\n",
       "      <td>79442.502883</td>\n",
       "    </tr>\n",
       "    <tr>\n",
       "      <th>min</th>\n",
       "      <td>1.000000</td>\n",
       "      <td>20.000000</td>\n",
       "      <td>21.000000</td>\n",
       "      <td>1300.000000</td>\n",
       "      <td>1.000000</td>\n",
       "      <td>1.000000</td>\n",
       "      <td>1872.000000</td>\n",
       "      <td>1950.000000</td>\n",
       "      <td>0.000000</td>\n",
       "      <td>0.000000</td>\n",
       "      <td>...</td>\n",
       "      <td>0.000000</td>\n",
       "      <td>0.000000</td>\n",
       "      <td>0.000000</td>\n",
       "      <td>0.000000</td>\n",
       "      <td>0.000000</td>\n",
       "      <td>0.000000</td>\n",
       "      <td>0.000000</td>\n",
       "      <td>1.000000</td>\n",
       "      <td>2006.000000</td>\n",
       "      <td>34900.000000</td>\n",
       "    </tr>\n",
       "    <tr>\n",
       "      <th>25%</th>\n",
       "      <td>365.750000</td>\n",
       "      <td>20.000000</td>\n",
       "      <td>59.000000</td>\n",
       "      <td>7553.500000</td>\n",
       "      <td>5.000000</td>\n",
       "      <td>5.000000</td>\n",
       "      <td>1954.000000</td>\n",
       "      <td>1967.000000</td>\n",
       "      <td>0.000000</td>\n",
       "      <td>0.000000</td>\n",
       "      <td>...</td>\n",
       "      <td>0.000000</td>\n",
       "      <td>0.000000</td>\n",
       "      <td>0.000000</td>\n",
       "      <td>0.000000</td>\n",
       "      <td>0.000000</td>\n",
       "      <td>0.000000</td>\n",
       "      <td>0.000000</td>\n",
       "      <td>5.000000</td>\n",
       "      <td>2007.000000</td>\n",
       "      <td>129975.000000</td>\n",
       "    </tr>\n",
       "    <tr>\n",
       "      <th>50%</th>\n",
       "      <td>730.500000</td>\n",
       "      <td>50.000000</td>\n",
       "      <td>69.000000</td>\n",
       "      <td>9478.500000</td>\n",
       "      <td>6.000000</td>\n",
       "      <td>5.000000</td>\n",
       "      <td>1973.000000</td>\n",
       "      <td>1994.000000</td>\n",
       "      <td>0.000000</td>\n",
       "      <td>383.500000</td>\n",
       "      <td>...</td>\n",
       "      <td>0.000000</td>\n",
       "      <td>25.000000</td>\n",
       "      <td>0.000000</td>\n",
       "      <td>0.000000</td>\n",
       "      <td>0.000000</td>\n",
       "      <td>0.000000</td>\n",
       "      <td>0.000000</td>\n",
       "      <td>6.000000</td>\n",
       "      <td>2008.000000</td>\n",
       "      <td>163000.000000</td>\n",
       "    </tr>\n",
       "    <tr>\n",
       "      <th>75%</th>\n",
       "      <td>1095.250000</td>\n",
       "      <td>70.000000</td>\n",
       "      <td>80.000000</td>\n",
       "      <td>11601.500000</td>\n",
       "      <td>7.000000</td>\n",
       "      <td>6.000000</td>\n",
       "      <td>2000.000000</td>\n",
       "      <td>2004.000000</td>\n",
       "      <td>166.000000</td>\n",
       "      <td>712.250000</td>\n",
       "      <td>...</td>\n",
       "      <td>168.000000</td>\n",
       "      <td>68.000000</td>\n",
       "      <td>0.000000</td>\n",
       "      <td>0.000000</td>\n",
       "      <td>0.000000</td>\n",
       "      <td>0.000000</td>\n",
       "      <td>0.000000</td>\n",
       "      <td>8.000000</td>\n",
       "      <td>2009.000000</td>\n",
       "      <td>214000.000000</td>\n",
       "    </tr>\n",
       "    <tr>\n",
       "      <th>max</th>\n",
       "      <td>1460.000000</td>\n",
       "      <td>190.000000</td>\n",
       "      <td>313.000000</td>\n",
       "      <td>215245.000000</td>\n",
       "      <td>10.000000</td>\n",
       "      <td>9.000000</td>\n",
       "      <td>2010.000000</td>\n",
       "      <td>2010.000000</td>\n",
       "      <td>1600.000000</td>\n",
       "      <td>5644.000000</td>\n",
       "      <td>...</td>\n",
       "      <td>857.000000</td>\n",
       "      <td>547.000000</td>\n",
       "      <td>552.000000</td>\n",
       "      <td>508.000000</td>\n",
       "      <td>480.000000</td>\n",
       "      <td>738.000000</td>\n",
       "      <td>15500.000000</td>\n",
       "      <td>12.000000</td>\n",
       "      <td>2010.000000</td>\n",
       "      <td>755000.000000</td>\n",
       "    </tr>\n",
       "  </tbody>\n",
       "</table>\n",
       "<p>8 rows × 38 columns</p>\n",
       "</div>"
      ],
      "text/plain": [
       "                Id   MSSubClass  LotFrontage        LotArea  OverallQual  \\\n",
       "count  1460.000000  1460.000000  1201.000000    1460.000000  1460.000000   \n",
       "mean    730.500000    56.897260    70.049958   10516.828082     6.099315   \n",
       "std     421.610009    42.300571    24.284752    9981.264932     1.382997   \n",
       "min       1.000000    20.000000    21.000000    1300.000000     1.000000   \n",
       "25%     365.750000    20.000000    59.000000    7553.500000     5.000000   \n",
       "50%     730.500000    50.000000    69.000000    9478.500000     6.000000   \n",
       "75%    1095.250000    70.000000    80.000000   11601.500000     7.000000   \n",
       "max    1460.000000   190.000000   313.000000  215245.000000    10.000000   \n",
       "\n",
       "       OverallCond    YearBuilt  YearRemodAdd   MasVnrArea   BsmtFinSF1  ...  \\\n",
       "count  1460.000000  1460.000000   1460.000000  1452.000000  1460.000000  ...   \n",
       "mean      5.575342  1971.267808   1984.865753   103.685262   443.639726  ...   \n",
       "std       1.112799    30.202904     20.645407   181.066207   456.098091  ...   \n",
       "min       1.000000  1872.000000   1950.000000     0.000000     0.000000  ...   \n",
       "25%       5.000000  1954.000000   1967.000000     0.000000     0.000000  ...   \n",
       "50%       5.000000  1973.000000   1994.000000     0.000000   383.500000  ...   \n",
       "75%       6.000000  2000.000000   2004.000000   166.000000   712.250000  ...   \n",
       "max       9.000000  2010.000000   2010.000000  1600.000000  5644.000000  ...   \n",
       "\n",
       "        WoodDeckSF  OpenPorchSF  EnclosedPorch    3SsnPorch  ScreenPorch  \\\n",
       "count  1460.000000  1460.000000    1460.000000  1460.000000  1460.000000   \n",
       "mean     94.244521    46.660274      21.954110     3.409589    15.060959   \n",
       "std     125.338794    66.256028      61.119149    29.317331    55.757415   \n",
       "min       0.000000     0.000000       0.000000     0.000000     0.000000   \n",
       "25%       0.000000     0.000000       0.000000     0.000000     0.000000   \n",
       "50%       0.000000    25.000000       0.000000     0.000000     0.000000   \n",
       "75%     168.000000    68.000000       0.000000     0.000000     0.000000   \n",
       "max     857.000000   547.000000     552.000000   508.000000   480.000000   \n",
       "\n",
       "          PoolArea       MiscVal       MoSold       YrSold      SalePrice  \n",
       "count  1460.000000   1460.000000  1460.000000  1460.000000    1460.000000  \n",
       "mean      2.758904     43.489041     6.321918  2007.815753  180921.195890  \n",
       "std      40.177307    496.123024     2.703626     1.328095   79442.502883  \n",
       "min       0.000000      0.000000     1.000000  2006.000000   34900.000000  \n",
       "25%       0.000000      0.000000     5.000000  2007.000000  129975.000000  \n",
       "50%       0.000000      0.000000     6.000000  2008.000000  163000.000000  \n",
       "75%       0.000000      0.000000     8.000000  2009.000000  214000.000000  \n",
       "max     738.000000  15500.000000    12.000000  2010.000000  755000.000000  \n",
       "\n",
       "[8 rows x 38 columns]"
      ]
     },
     "execution_count": 4,
     "metadata": {},
     "output_type": "execute_result"
    }
   ],
   "source": [
    "train.describe()"
   ]
  },
  {
   "cell_type": "code",
   "execution_count": 5,
   "id": "55bf82c2",
   "metadata": {},
   "outputs": [],
   "source": [
    "train.drop(['PoolQC','MiscFeature','Alley','Fence','FireplaceQu','LotFrontage'],axis=1,inplace=True)"
   ]
  },
  {
   "cell_type": "code",
   "execution_count": 6,
   "id": "c64520f3",
   "metadata": {},
   "outputs": [
    {
     "name": "stderr",
     "output_type": "stream",
     "text": [
      "C:\\Users\\sousa\\AppData\\Local\\Temp/ipykernel_13192/3654458027.py:2: FutureWarning: Dropping of nuisance columns in DataFrame reductions (with 'numeric_only=None') is deprecated; in a future version this will raise TypeError.  Select only valid columns before calling the reduction.\n",
      "  train=train.fillna(train.mean())\n"
     ]
    }
   ],
   "source": [
    "# Filling with most frequent and mean\n",
    "train=train.fillna(train.mean())"
   ]
  },
  {
   "cell_type": "markdown",
   "id": "30bae324",
   "metadata": {},
   "source": [
    "# Outliers detection"
   ]
  },
  {
   "cell_type": "code",
   "execution_count": 7,
   "id": "1af6b2b2",
   "metadata": {},
   "outputs": [
    {
     "data": {
      "text/plain": [
       "<AxesSubplot:xlabel='SalePrice'>"
      ]
     },
     "execution_count": 7,
     "metadata": {},
     "output_type": "execute_result"
    },
    {
     "data": {
      "image/png": "[encoded data removed]",
      "text/plain": [
       "<Figure size 432x288 with 1 Axes>"
      ]
     },
     "metadata": {
      "needs_background": "light"
     },
     "output_type": "display_data"
    }
   ],
   "source": [
    "sns.violinplot(x='SalePrice',data=train)"
   ]
  },
  {
   "cell_type": "code",
   "execution_count": 8,
   "id": "7d4bbcb8",
   "metadata": {},
   "outputs": [],
   "source": [
    "random.seed(101)\n",
    "md_IsFo = IsolationForest(contamination=0.01)"
   ]
  },
  {
   "cell_type": "code",
   "execution_count": 9,
   "id": "4afafda6",
   "metadata": {},
   "outputs": [],
   "source": [
    "a=list(train.select_dtypes(['int']).columns)\n",
    "b=list(train.select_dtypes(['float']).columns)\n",
    "c=a+b"
   ]
  },
  {
   "cell_type": "code",
   "execution_count": 10,
   "id": "b101b744",
   "metadata": {},
   "outputs": [],
   "source": [
    "c=c[1:]"
   ]
  },
  {
   "cell_type": "code",
   "execution_count": 11,
   "id": "85e6a028",
   "metadata": {},
   "outputs": [],
   "source": [
    "md_IsFo.fit(train[c])\n",
    "outliers = md_IsFo.predict(train[c]) ==-1"
   ]
  },
  {
   "cell_type": "code",
   "execution_count": 12,
   "id": "bdbc677d",
   "metadata": {},
   "outputs": [
    {
     "data": {
      "text/html": [
       "<div>\n",
       "<style scoped>\n",
       "    .dataframe tbody tr th:only-of-type {\n",
       "        vertical-align: middle;\n",
       "    }\n",
       "\n",
       "    .dataframe tbody tr th {\n",
       "        vertical-align: top;\n",
       "    }\n",
       "\n",
       "    .dataframe thead th {\n",
       "        text-align: right;\n",
       "    }\n",
       "</style>\n",
       "<table border=\"1\" class=\"dataframe\">\n",
       "  <thead>\n",
       "    <tr style=\"text-align: right;\">\n",
       "      <th></th>\n",
       "      <th>Id</th>\n",
       "      <th>MSSubClass</th>\n",
       "      <th>MSZoning</th>\n",
       "      <th>LotArea</th>\n",
       "      <th>Street</th>\n",
       "      <th>LotShape</th>\n",
       "      <th>LandContour</th>\n",
       "      <th>Utilities</th>\n",
       "      <th>LotConfig</th>\n",
       "      <th>LandSlope</th>\n",
       "      <th>...</th>\n",
       "      <th>EnclosedPorch</th>\n",
       "      <th>3SsnPorch</th>\n",
       "      <th>ScreenPorch</th>\n",
       "      <th>PoolArea</th>\n",
       "      <th>MiscVal</th>\n",
       "      <th>MoSold</th>\n",
       "      <th>YrSold</th>\n",
       "      <th>SaleType</th>\n",
       "      <th>SaleCondition</th>\n",
       "      <th>SalePrice</th>\n",
       "    </tr>\n",
       "  </thead>\n",
       "  <tbody>\n",
       "    <tr>\n",
       "      <th>53</th>\n",
       "      <td>54</td>\n",
       "      <td>20</td>\n",
       "      <td>RL</td>\n",
       "      <td>50271</td>\n",
       "      <td>Pave</td>\n",
       "      <td>IR1</td>\n",
       "      <td>Low</td>\n",
       "      <td>AllPub</td>\n",
       "      <td>Inside</td>\n",
       "      <td>Gtl</td>\n",
       "      <td>...</td>\n",
       "      <td>0</td>\n",
       "      <td>0</td>\n",
       "      <td>0</td>\n",
       "      <td>0</td>\n",
       "      <td>0</td>\n",
       "      <td>11</td>\n",
       "      <td>2006</td>\n",
       "      <td>WD</td>\n",
       "      <td>Normal</td>\n",
       "      <td>385000</td>\n",
       "    </tr>\n",
       "    <tr>\n",
       "      <th>185</th>\n",
       "      <td>186</td>\n",
       "      <td>75</td>\n",
       "      <td>RM</td>\n",
       "      <td>22950</td>\n",
       "      <td>Pave</td>\n",
       "      <td>IR2</td>\n",
       "      <td>Lvl</td>\n",
       "      <td>AllPub</td>\n",
       "      <td>Inside</td>\n",
       "      <td>Gtl</td>\n",
       "      <td>...</td>\n",
       "      <td>0</td>\n",
       "      <td>0</td>\n",
       "      <td>410</td>\n",
       "      <td>0</td>\n",
       "      <td>0</td>\n",
       "      <td>6</td>\n",
       "      <td>2006</td>\n",
       "      <td>WD</td>\n",
       "      <td>Normal</td>\n",
       "      <td>475000</td>\n",
       "    </tr>\n",
       "    <tr>\n",
       "      <th>197</th>\n",
       "      <td>198</td>\n",
       "      <td>75</td>\n",
       "      <td>RL</td>\n",
       "      <td>25419</td>\n",
       "      <td>Pave</td>\n",
       "      <td>Reg</td>\n",
       "      <td>Lvl</td>\n",
       "      <td>AllPub</td>\n",
       "      <td>Corner</td>\n",
       "      <td>Gtl</td>\n",
       "      <td>...</td>\n",
       "      <td>552</td>\n",
       "      <td>0</td>\n",
       "      <td>0</td>\n",
       "      <td>512</td>\n",
       "      <td>0</td>\n",
       "      <td>3</td>\n",
       "      <td>2006</td>\n",
       "      <td>WD</td>\n",
       "      <td>Abnorml</td>\n",
       "      <td>235000</td>\n",
       "    </tr>\n",
       "    <tr>\n",
       "      <th>440</th>\n",
       "      <td>441</td>\n",
       "      <td>20</td>\n",
       "      <td>RL</td>\n",
       "      <td>15431</td>\n",
       "      <td>Pave</td>\n",
       "      <td>Reg</td>\n",
       "      <td>Lvl</td>\n",
       "      <td>AllPub</td>\n",
       "      <td>Inside</td>\n",
       "      <td>Gtl</td>\n",
       "      <td>...</td>\n",
       "      <td>0</td>\n",
       "      <td>0</td>\n",
       "      <td>170</td>\n",
       "      <td>0</td>\n",
       "      <td>0</td>\n",
       "      <td>4</td>\n",
       "      <td>2009</td>\n",
       "      <td>WD</td>\n",
       "      <td>Normal</td>\n",
       "      <td>555000</td>\n",
       "    </tr>\n",
       "    <tr>\n",
       "      <th>523</th>\n",
       "      <td>524</td>\n",
       "      <td>60</td>\n",
       "      <td>RL</td>\n",
       "      <td>40094</td>\n",
       "      <td>Pave</td>\n",
       "      <td>IR1</td>\n",
       "      <td>Bnk</td>\n",
       "      <td>AllPub</td>\n",
       "      <td>Inside</td>\n",
       "      <td>Gtl</td>\n",
       "      <td>...</td>\n",
       "      <td>0</td>\n",
       "      <td>0</td>\n",
       "      <td>0</td>\n",
       "      <td>0</td>\n",
       "      <td>0</td>\n",
       "      <td>10</td>\n",
       "      <td>2007</td>\n",
       "      <td>New</td>\n",
       "      <td>Partial</td>\n",
       "      <td>184750</td>\n",
       "    </tr>\n",
       "    <tr>\n",
       "      <th>635</th>\n",
       "      <td>636</td>\n",
       "      <td>190</td>\n",
       "      <td>RH</td>\n",
       "      <td>10896</td>\n",
       "      <td>Pave</td>\n",
       "      <td>Reg</td>\n",
       "      <td>Bnk</td>\n",
       "      <td>AllPub</td>\n",
       "      <td>Inside</td>\n",
       "      <td>Gtl</td>\n",
       "      <td>...</td>\n",
       "      <td>0</td>\n",
       "      <td>0</td>\n",
       "      <td>0</td>\n",
       "      <td>0</td>\n",
       "      <td>0</td>\n",
       "      <td>3</td>\n",
       "      <td>2007</td>\n",
       "      <td>WD</td>\n",
       "      <td>Abnorml</td>\n",
       "      <td>200000</td>\n",
       "    </tr>\n",
       "    <tr>\n",
       "      <th>691</th>\n",
       "      <td>692</td>\n",
       "      <td>60</td>\n",
       "      <td>RL</td>\n",
       "      <td>21535</td>\n",
       "      <td>Pave</td>\n",
       "      <td>IR1</td>\n",
       "      <td>Lvl</td>\n",
       "      <td>AllPub</td>\n",
       "      <td>Corner</td>\n",
       "      <td>Gtl</td>\n",
       "      <td>...</td>\n",
       "      <td>0</td>\n",
       "      <td>0</td>\n",
       "      <td>0</td>\n",
       "      <td>0</td>\n",
       "      <td>0</td>\n",
       "      <td>1</td>\n",
       "      <td>2007</td>\n",
       "      <td>WD</td>\n",
       "      <td>Normal</td>\n",
       "      <td>755000</td>\n",
       "    </tr>\n",
       "    <tr>\n",
       "      <th>769</th>\n",
       "      <td>770</td>\n",
       "      <td>60</td>\n",
       "      <td>RL</td>\n",
       "      <td>53504</td>\n",
       "      <td>Pave</td>\n",
       "      <td>IR2</td>\n",
       "      <td>HLS</td>\n",
       "      <td>AllPub</td>\n",
       "      <td>CulDSac</td>\n",
       "      <td>Mod</td>\n",
       "      <td>...</td>\n",
       "      <td>0</td>\n",
       "      <td>0</td>\n",
       "      <td>210</td>\n",
       "      <td>0</td>\n",
       "      <td>0</td>\n",
       "      <td>6</td>\n",
       "      <td>2010</td>\n",
       "      <td>WD</td>\n",
       "      <td>Normal</td>\n",
       "      <td>538000</td>\n",
       "    </tr>\n",
       "    <tr>\n",
       "      <th>898</th>\n",
       "      <td>899</td>\n",
       "      <td>20</td>\n",
       "      <td>RL</td>\n",
       "      <td>12919</td>\n",
       "      <td>Pave</td>\n",
       "      <td>IR1</td>\n",
       "      <td>Lvl</td>\n",
       "      <td>AllPub</td>\n",
       "      <td>Inside</td>\n",
       "      <td>Gtl</td>\n",
       "      <td>...</td>\n",
       "      <td>0</td>\n",
       "      <td>0</td>\n",
       "      <td>0</td>\n",
       "      <td>0</td>\n",
       "      <td>0</td>\n",
       "      <td>3</td>\n",
       "      <td>2010</td>\n",
       "      <td>New</td>\n",
       "      <td>Partial</td>\n",
       "      <td>611657</td>\n",
       "    </tr>\n",
       "    <tr>\n",
       "      <th>1169</th>\n",
       "      <td>1170</td>\n",
       "      <td>60</td>\n",
       "      <td>RL</td>\n",
       "      <td>35760</td>\n",
       "      <td>Pave</td>\n",
       "      <td>IR1</td>\n",
       "      <td>Lvl</td>\n",
       "      <td>AllPub</td>\n",
       "      <td>CulDSac</td>\n",
       "      <td>Gtl</td>\n",
       "      <td>...</td>\n",
       "      <td>0</td>\n",
       "      <td>0</td>\n",
       "      <td>0</td>\n",
       "      <td>0</td>\n",
       "      <td>0</td>\n",
       "      <td>7</td>\n",
       "      <td>2006</td>\n",
       "      <td>WD</td>\n",
       "      <td>Normal</td>\n",
       "      <td>625000</td>\n",
       "    </tr>\n",
       "    <tr>\n",
       "      <th>1182</th>\n",
       "      <td>1183</td>\n",
       "      <td>60</td>\n",
       "      <td>RL</td>\n",
       "      <td>15623</td>\n",
       "      <td>Pave</td>\n",
       "      <td>IR1</td>\n",
       "      <td>Lvl</td>\n",
       "      <td>AllPub</td>\n",
       "      <td>Corner</td>\n",
       "      <td>Gtl</td>\n",
       "      <td>...</td>\n",
       "      <td>0</td>\n",
       "      <td>0</td>\n",
       "      <td>0</td>\n",
       "      <td>555</td>\n",
       "      <td>0</td>\n",
       "      <td>7</td>\n",
       "      <td>2007</td>\n",
       "      <td>WD</td>\n",
       "      <td>Abnorml</td>\n",
       "      <td>745000</td>\n",
       "    </tr>\n",
       "    <tr>\n",
       "      <th>1298</th>\n",
       "      <td>1299</td>\n",
       "      <td>60</td>\n",
       "      <td>RL</td>\n",
       "      <td>63887</td>\n",
       "      <td>Pave</td>\n",
       "      <td>IR3</td>\n",
       "      <td>Bnk</td>\n",
       "      <td>AllPub</td>\n",
       "      <td>Corner</td>\n",
       "      <td>Gtl</td>\n",
       "      <td>...</td>\n",
       "      <td>0</td>\n",
       "      <td>0</td>\n",
       "      <td>0</td>\n",
       "      <td>480</td>\n",
       "      <td>0</td>\n",
       "      <td>1</td>\n",
       "      <td>2008</td>\n",
       "      <td>New</td>\n",
       "      <td>Partial</td>\n",
       "      <td>160000</td>\n",
       "    </tr>\n",
       "    <tr>\n",
       "      <th>1328</th>\n",
       "      <td>1329</td>\n",
       "      <td>50</td>\n",
       "      <td>RM</td>\n",
       "      <td>10440</td>\n",
       "      <td>Pave</td>\n",
       "      <td>Reg</td>\n",
       "      <td>Lvl</td>\n",
       "      <td>AllPub</td>\n",
       "      <td>Corner</td>\n",
       "      <td>Gtl</td>\n",
       "      <td>...</td>\n",
       "      <td>0</td>\n",
       "      <td>0</td>\n",
       "      <td>480</td>\n",
       "      <td>0</td>\n",
       "      <td>1150</td>\n",
       "      <td>6</td>\n",
       "      <td>2008</td>\n",
       "      <td>WD</td>\n",
       "      <td>Normal</td>\n",
       "      <td>256000</td>\n",
       "    </tr>\n",
       "    <tr>\n",
       "      <th>1350</th>\n",
       "      <td>1351</td>\n",
       "      <td>90</td>\n",
       "      <td>RL</td>\n",
       "      <td>11643</td>\n",
       "      <td>Pave</td>\n",
       "      <td>Reg</td>\n",
       "      <td>Lvl</td>\n",
       "      <td>AllPub</td>\n",
       "      <td>Inside</td>\n",
       "      <td>Gtl</td>\n",
       "      <td>...</td>\n",
       "      <td>0</td>\n",
       "      <td>0</td>\n",
       "      <td>0</td>\n",
       "      <td>0</td>\n",
       "      <td>0</td>\n",
       "      <td>8</td>\n",
       "      <td>2009</td>\n",
       "      <td>WD</td>\n",
       "      <td>Normal</td>\n",
       "      <td>200000</td>\n",
       "    </tr>\n",
       "    <tr>\n",
       "      <th>1386</th>\n",
       "      <td>1387</td>\n",
       "      <td>60</td>\n",
       "      <td>RL</td>\n",
       "      <td>16692</td>\n",
       "      <td>Pave</td>\n",
       "      <td>IR1</td>\n",
       "      <td>Lvl</td>\n",
       "      <td>AllPub</td>\n",
       "      <td>Inside</td>\n",
       "      <td>Gtl</td>\n",
       "      <td>...</td>\n",
       "      <td>0</td>\n",
       "      <td>0</td>\n",
       "      <td>440</td>\n",
       "      <td>519</td>\n",
       "      <td>2000</td>\n",
       "      <td>7</td>\n",
       "      <td>2006</td>\n",
       "      <td>WD</td>\n",
       "      <td>Normal</td>\n",
       "      <td>250000</td>\n",
       "    </tr>\n",
       "  </tbody>\n",
       "</table>\n",
       "<p>15 rows × 75 columns</p>\n",
       "</div>"
      ],
      "text/plain": [
       "        Id  MSSubClass MSZoning  LotArea Street LotShape LandContour  \\\n",
       "53      54          20       RL    50271   Pave      IR1         Low   \n",
       "185    186          75       RM    22950   Pave      IR2         Lvl   \n",
       "197    198          75       RL    25419   Pave      Reg         Lvl   \n",
       "440    441          20       RL    15431   Pave      Reg         Lvl   \n",
       "523    524          60       RL    40094   Pave      IR1         Bnk   \n",
       "635    636         190       RH    10896   Pave      Reg         Bnk   \n",
       "691    692          60       RL    21535   Pave      IR1         Lvl   \n",
       "769    770          60       RL    53504   Pave      IR2         HLS   \n",
       "898    899          20       RL    12919   Pave      IR1         Lvl   \n",
       "1169  1170          60       RL    35760   Pave      IR1         Lvl   \n",
       "1182  1183          60       RL    15623   Pave      IR1         Lvl   \n",
       "1298  1299          60       RL    63887   Pave      IR3         Bnk   \n",
       "1328  1329          50       RM    10440   Pave      Reg         Lvl   \n",
       "1350  1351          90       RL    11643   Pave      Reg         Lvl   \n",
       "1386  1387          60       RL    16692   Pave      IR1         Lvl   \n",
       "\n",
       "     Utilities LotConfig LandSlope  ... EnclosedPorch 3SsnPorch ScreenPorch  \\\n",
       "53      AllPub    Inside       Gtl  ...             0         0           0   \n",
       "185     AllPub    Inside       Gtl  ...             0         0         410   \n",
       "197     AllPub    Corner       Gtl  ...           552         0           0   \n",
       "440     AllPub    Inside       Gtl  ...             0         0         170   \n",
       "523     AllPub    Inside       Gtl  ...             0         0           0   \n",
       "635     AllPub    Inside       Gtl  ...             0         0           0   \n",
       "691     AllPub    Corner       Gtl  ...             0         0           0   \n",
       "769     AllPub   CulDSac       Mod  ...             0         0         210   \n",
       "898     AllPub    Inside       Gtl  ...             0         0           0   \n",
       "1169    AllPub   CulDSac       Gtl  ...             0         0           0   \n",
       "1182    AllPub    Corner       Gtl  ...             0         0           0   \n",
       "1298    AllPub    Corner       Gtl  ...             0         0           0   \n",
       "1328    AllPub    Corner       Gtl  ...             0         0         480   \n",
       "1350    AllPub    Inside       Gtl  ...             0         0           0   \n",
       "1386    AllPub    Inside       Gtl  ...             0         0         440   \n",
       "\n",
       "     PoolArea MiscVal  MoSold  YrSold  SaleType  SaleCondition SalePrice  \n",
       "53          0       0      11    2006        WD         Normal    385000  \n",
       "185         0       0       6    2006        WD         Normal    475000  \n",
       "197       512       0       3    2006        WD        Abnorml    235000  \n",
       "440         0       0       4    2009        WD         Normal    555000  \n",
       "523         0       0      10    2007       New        Partial    184750  \n",
       "635         0       0       3    2007        WD        Abnorml    200000  \n",
       "691         0       0       1    2007        WD         Normal    755000  \n",
       "769         0       0       6    2010        WD         Normal    538000  \n",
       "898         0       0       3    2010       New        Partial    611657  \n",
       "1169        0       0       7    2006        WD         Normal    625000  \n",
       "1182      555       0       7    2007        WD        Abnorml    745000  \n",
       "1298      480       0       1    2008       New        Partial    160000  \n",
       "1328        0    1150       6    2008        WD         Normal    256000  \n",
       "1350        0       0       8    2009        WD         Normal    200000  \n",
       "1386      519    2000       7    2006        WD         Normal    250000  \n",
       "\n",
       "[15 rows x 75 columns]"
      ]
     },
     "execution_count": 12,
     "metadata": {},
     "output_type": "execute_result"
    }
   ],
   "source": [
    "train[outliers]"
   ]
  },
  {
   "cell_type": "code",
   "execution_count": 13,
   "id": "542c024c",
   "metadata": {},
   "outputs": [],
   "source": [
    "#removing outliers\n",
    "train=train[~outliers]"
   ]
  },
  {
   "cell_type": "markdown",
   "id": "05d1c253",
   "metadata": {},
   "source": [
    "# BUILDING FACTORS"
   ]
  },
  {
   "cell_type": "code",
   "execution_count": 14,
   "id": "094e55ea",
   "metadata": {},
   "outputs": [],
   "source": [
    "def qualfun(colunax):\n",
    "    if colunax == 'Ex':\n",
    "            return 1\n",
    "    elif colunax == 'Gd':\n",
    "            return 0.8\n",
    "        \n",
    "    elif colunax == 'TA':\n",
    "            return 0.5\n",
    "        \n",
    "    elif colunax == 'Far':\n",
    "            return 0.2\n",
    "        \n",
    "    elif colunax == 'Po':\n",
    "            return 0.05\n",
    "        \n",
    "    else:\n",
    "            return 0"
   ]
  },
  {
   "cell_type": "code",
   "execution_count": 15,
   "id": "4bd0a376",
   "metadata": {},
   "outputs": [],
   "source": [
    "def GarageType(colunax):\n",
    "    if colunax == 'CarPort':\n",
    "            return 0.05\n",
    "        \n",
    "    elif colunax == 'Detchd':\n",
    "            return 0.10\n",
    "        \n",
    "    elif colunax == '2Types':\n",
    "            return 0.15\n",
    "        \n",
    "    elif colunax == 'Basment':\n",
    "            return 0.20\n",
    "        \n",
    "    elif colunax == 'Attchd':\n",
    "            return 0.25\n",
    "        \n",
    "    elif colunax == 'BuiltIn':\n",
    "            return 0.35\n",
    "        \n",
    "    else:\n",
    "            return 0"
   ]
  },
  {
   "cell_type": "code",
   "execution_count": 16,
   "id": "9b6f5cde",
   "metadata": {},
   "outputs": [],
   "source": [
    "def GarageFinish(colunax):\n",
    "    if colunax == 'Unf':\n",
    "            return 1\n",
    "        \n",
    "    elif colunax == 'RFn':\n",
    "            return 2\n",
    "        \n",
    "    elif colunax == 'Fin':\n",
    "            return 3\n",
    "        \n",
    "    else:\n",
    "            return 0"
   ]
  },
  {
   "cell_type": "code",
   "execution_count": 17,
   "id": "0e31d64a",
   "metadata": {},
   "outputs": [],
   "source": [
    "def GarageFactor(colunax):\n",
    "    if colunax >0:\n",
    "            return np.log(colunax)\n",
    "        \n",
    "    else:\n",
    "            return 0"
   ]
  },
  {
   "cell_type": "markdown",
   "id": "b9299ac0",
   "metadata": {},
   "source": [
    "## Garage"
   ]
  },
  {
   "cell_type": "code",
   "execution_count": 18,
   "id": "bf69e6f1",
   "metadata": {},
   "outputs": [],
   "source": [
    "train.drop(['GarageCond','GarageQual'],axis=1,inplace=True)\n",
    "train['GarageType'] = train.apply(lambda x: GarageType(x['GarageType']),axis=1)\n",
    "train['GarageFinish'] = train.apply(lambda x: GarageFinish(x['GarageFinish']),axis=1)"
   ]
  },
  {
   "cell_type": "code",
   "execution_count": 19,
   "id": "a4aaec8e",
   "metadata": {},
   "outputs": [
    {
     "data": {
      "text/plain": [
       "<AxesSubplot:xlabel='GarageFactor', ylabel='SalePrice'>"
      ]
     },
     "execution_count": 19,
     "metadata": {},
     "output_type": "execute_result"
    },
    {
     "data": {
      "image/png": "[encoded data removed]",
      "text/plain": [
       "<Figure size 432x288 with 1 Axes>"
      ]
     },
     "metadata": {
      "needs_background": "light"
     },
     "output_type": "display_data"
    }
   ],
   "source": [
    "train['GarageFactor']= train['GarageArea']*train['GarageFinish']*train['GarageType']\n",
    "sns.lineplot(x='GarageFactor', y='SalePrice', data=train)"
   ]
  },
  {
   "cell_type": "code",
   "execution_count": 20,
   "id": "fbcfef43",
   "metadata": {},
   "outputs": [],
   "source": [
    "train['GarageFactor'] = train.apply(lambda x: GarageFactor(x['GarageFactor']),axis=1)"
   ]
  },
  {
   "cell_type": "markdown",
   "id": "a55b7a79",
   "metadata": {},
   "source": [
    "## Basement"
   ]
  },
  {
   "cell_type": "code",
   "execution_count": 21,
   "id": "17cd79ec",
   "metadata": {},
   "outputs": [],
   "source": [
    "train['BsmtQual'] = train.apply(lambda x: qualfun(x['BsmtQual']),axis=1)\n",
    "train['BsmtCond'] = train.apply(lambda x: qualfun(x['BsmtCond']),axis=1)"
   ]
  },
  {
   "cell_type": "markdown",
   "id": "65888afb",
   "metadata": {},
   "source": [
    "## Years"
   ]
  },
  {
   "cell_type": "code",
   "execution_count": 22,
   "id": "b8772d23",
   "metadata": {},
   "outputs": [],
   "source": [
    "train['YearBuilt']=2016-train['YearBuilt']\n",
    "train['YearRemodAdd']=2016-train['YearRemodAdd']\n",
    "train['YrSold']= 2016-train['YrSold']"
   ]
  },
  {
   "cell_type": "markdown",
   "id": "a81a050c",
   "metadata": {},
   "source": [
    "## Rooms"
   ]
  },
  {
   "cell_type": "code",
   "execution_count": 23,
   "id": "9215c767",
   "metadata": {},
   "outputs": [],
   "source": [
    "train['KitchenQual']= train.apply(lambda x: qualfun(x['KitchenQual']),axis=1)\n",
    "train['bedroomperrooms']=train['BedroomAbvGr']/train['TotRmsAbvGrd']\n",
    "train['kitchenfactor']=train['KitchenAbvGr']*train['KitchenQual']"
   ]
  },
  {
   "cell_type": "markdown",
   "id": "136d3e3d",
   "metadata": {},
   "source": [
    "# SELECT VARIABLES"
   ]
  },
  {
   "cell_type": "code",
   "execution_count": 24,
   "id": "c8d211cb",
   "metadata": {},
   "outputs": [],
   "source": [
    "train=train[['Id', 'MSSubClass', 'MSZoning', 'LotArea', 'Street', 'LotShape',\n",
    "       'LandContour', 'Utilities', 'LotConfig', 'LandSlope', 'Neighborhood',\n",
    "       'Condition1', 'Condition2', 'BldgType', 'HouseStyle', 'OverallQual',\n",
    "       'OverallCond', 'YearBuilt', 'YearRemodAdd', 'RoofStyle', 'RoofMatl',\n",
    "       'Exterior1st', 'Exterior2nd', 'MasVnrType', 'MasVnrArea', 'ExterQual',\n",
    "       'ExterCond', 'Foundation', 'BsmtQual', 'BsmtCond', 'BsmtExposure',\n",
    "       'BsmtFinType1', 'BsmtFinSF1', 'BsmtFinType2', 'BsmtFinSF2', 'BsmtUnfSF',\n",
    "       'TotalBsmtSF', 'Heating', 'HeatingQC', 'CentralAir', 'Electrical',\n",
    "       '1stFlrSF', '2ndFlrSF', 'LowQualFinSF', 'GrLivArea', 'BsmtFullBath',\n",
    "       'BsmtHalfBath', 'FullBath', 'HalfBath', 'BedroomAbvGr', 'KitchenAbvGr',\n",
    "       'KitchenQual', 'TotRmsAbvGrd', 'Functional', 'Fireplaces', 'GarageType',\n",
    "       'GarageYrBlt', 'GarageFinish', 'GarageCars', 'GarageArea', 'PavedDrive',\n",
    "       'WoodDeckSF', 'OpenPorchSF', 'EnclosedPorch', '3SsnPorch',\n",
    "       'ScreenPorch', 'PoolArea', 'MiscVal', 'MoSold', 'YrSold', 'SaleType',\n",
    "       'SaleCondition', 'GarageFactor', 'bedroomperrooms',\n",
    "       'kitchenfactor', 'SalePrice']]"
   ]
  },
  {
   "cell_type": "code",
   "execution_count": 25,
   "id": "c6e63d55",
   "metadata": {},
   "outputs": [
    {
     "data": {
      "text/plain": [
       "<AxesSubplot:>"
      ]
     },
     "execution_count": 25,
     "metadata": {},
     "output_type": "execute_result"
    },
    {
     "data": {
      "image/png": "[encoded data removed]",
      "text/plain": [
       "<Figure size 1224x1008 with 2 Axes>"
      ]
     },
     "metadata": {
      "needs_background": "light"
     },
     "output_type": "display_data"
    }
   ],
   "source": [
    "plt.figure(figsize=(17,14))\n",
    "sns.heatmap(train.corr(), cmap='seismic', annot=False, linewidth=0.5)"
   ]
  },
  {
   "cell_type": "code",
   "execution_count": 26,
   "id": "f48dcbab",
   "metadata": {},
   "outputs": [
    {
     "name": "stdout",
     "output_type": "stream",
     "text": [
      "SalePrice          1.000000\n",
      "OverallQual        0.803289\n",
      "GrLivArea          0.718651\n",
      "GarageCars         0.655257\n",
      "GarageArea         0.642866\n",
      "TotalBsmtSF        0.639550\n",
      "KitchenQual        0.634166\n",
      "1stFlrSF           0.618166\n",
      "GarageFactor       0.614972\n",
      "BsmtQual           0.609750\n",
      "FullBath           0.567902\n",
      "GarageFinish       0.566880\n",
      "GarageType         0.529535\n",
      "TotRmsAbvGrd       0.528299\n",
      "kitchenfactor      0.515851\n",
      "GarageYrBlt        0.494059\n",
      "Fireplaces         0.463137\n",
      "MasVnrArea         0.458888\n",
      "BsmtFinSF1         0.373128\n",
      "OpenPorchSF        0.335430\n",
      "WoodDeckSF         0.322814\n",
      "2ndFlrSF           0.288661\n",
      "HalfBath           0.281395\n",
      "LotArea            0.246406\n",
      "BsmtCond           0.240132\n",
      "BsmtUnfSF          0.236499\n",
      "BsmtFullBath       0.227748\n",
      "BedroomAbvGr       0.167928\n",
      "ScreenPorch        0.080396\n",
      "MoSold             0.064960\n",
      "3SsnPorch          0.052395\n",
      "YrSold             0.026734\n",
      "PoolArea           0.021604\n",
      "BsmtFinSF2        -0.017398\n",
      "MiscVal           -0.024774\n",
      "Id                -0.027835\n",
      "BsmtHalfBath      -0.036794\n",
      "LowQualFinSF      -0.071120\n",
      "OverallCond       -0.084408\n",
      "MSSubClass        -0.087362\n",
      "EnclosedPorch     -0.136713\n",
      "KitchenAbvGr      -0.144838\n",
      "bedroomperrooms   -0.331602\n",
      "YearRemodAdd      -0.534947\n",
      "YearBuilt         -0.559117\n",
      "Name: SalePrice, dtype: float64\n"
     ]
    }
   ],
   "source": [
    "corr_matrix = train.select_dtypes(np.number).corr()\n",
    "corr = corr_matrix[\"SalePrice\"].sort_values(ascending = False)\n",
    "print(corr)\n",
    "indexNames = corr[abs(corr.values) < 0.4].index.values\n",
    "indexNames = np.setdiff1d(indexNames, ['Id','MSSubClass'])\n",
    "#print(len(indexNames), indexNames)\n",
    "#train.drop(indexNames , inplace=True, axis = 1)\n",
    "#len(train.columns)\n",
    "#test.drop(indexNames , inplace=True, axis = 1)\n",
    "#print(train.shape[1],test.shape[1])"
   ]
  },
  {
   "cell_type": "code",
   "execution_count": 27,
   "id": "89821e4b",
   "metadata": {},
   "outputs": [],
   "source": [
    "train=train[['OverallQual', 'OverallCond', 'YearBuilt', 'YearRemodAdd', \n",
    "             'MasVnrType', 'MasVnrArea','BsmtQual', 'BsmtCond', \n",
    "             'TotalBsmtSF','1stFlrSF','GrLivArea', 'FullBath','KitchenAbvGr', 'KitchenQual',\n",
    "             'TotRmsAbvGrd', 'Fireplaces', 'GarageType', 'GarageYrBlt',\n",
    "             'GarageCars', 'YrSold', 'GarageFactor', 'bedroomperrooms',\n",
    "             'kitchenfactor','SalePrice']]"
   ]
  },
  {
   "cell_type": "code",
   "execution_count": 28,
   "id": "13e01f06",
   "metadata": {},
   "outputs": [],
   "source": [
    "train['lnprice']=np.log(train['SalePrice'])"
   ]
  },
  {
   "cell_type": "markdown",
   "id": "3d68b25e",
   "metadata": {},
   "source": [
    "## Split sample"
   ]
  },
  {
   "cell_type": "code",
   "execution_count": 29,
   "id": "468a6e18",
   "metadata": {},
   "outputs": [],
   "source": [
    "x = train[['OverallQual', 'OverallCond', 'YearBuilt', 'YearRemodAdd',\n",
    "           'MasVnrArea','BsmtQual', 'BsmtCond','1stFlrSF','GrLivArea','FullBath','Fireplaces','GarageType','GarageCars','GarageYrBlt','YrSold',\n",
    "           'TotalBsmtSF','KitchenAbvGr', 'KitchenQual',\n",
    "           'TotRmsAbvGrd', 'GarageFactor', 'bedroomperrooms','kitchenfactor']]\n",
    "y= train['SalePrice']\n",
    "x_train, x_test, y_train, y_test = train_test_split(x,y,test_size=0.20,random_state=101)"
   ]
  },
  {
   "cell_type": "markdown",
   "id": "e617b13d",
   "metadata": {},
   "source": [
    "# OLS MODEL"
   ]
  },
  {
   "cell_type": "code",
   "execution_count": 30,
   "id": "6fe0befb",
   "metadata": {},
   "outputs": [
    {
     "name": "stdout",
     "output_type": "stream",
     "text": [
      "                                 OLS Regression Results                                \n",
      "=======================================================================================\n",
      "Dep. Variable:              SalePrice   R-squared (uncentered):                   0.979\n",
      "Model:                            OLS   Adj. R-squared (uncentered):              0.979\n",
      "Method:                 Least Squares   F-statistic:                              2922.\n",
      "Date:                Tue, 12 Apr 2022   Prob (F-statistic):                        0.00\n",
      "Time:                        01:37:49   Log-Likelihood:                         -13475.\n",
      "No. Observations:                1156   AIC:                                  2.699e+04\n",
      "Df Residuals:                    1134   BIC:                                  2.711e+04\n",
      "Df Model:                          22                                                  \n",
      "Covariance Type:                  HC1                                                  \n",
      "===================================================================================\n",
      "                      coef    std err          z      P>|z|      [0.025      0.975]\n",
      "-----------------------------------------------------------------------------------\n",
      "OverallQual      1.104e+04   1120.646      9.852      0.000    8843.778    1.32e+04\n",
      "OverallCond      6374.7826    883.681      7.214      0.000    4642.800    8106.765\n",
      "YearBuilt        -385.8747     50.406     -7.655      0.000    -484.668    -287.082\n",
      "YearRemodAdd      -75.8338     55.799     -1.359      0.174    -185.199      33.531\n",
      "MasVnrArea         27.4349      7.317      3.749      0.000      13.093      41.777\n",
      "BsmtQual         1.613e+04   6240.535      2.584      0.010    3893.980    2.84e+04\n",
      "BsmtCond        -9922.7045   8238.350     -1.204      0.228   -2.61e+04    6224.165\n",
      "1stFlrSF           12.7755      4.807      2.658      0.008       3.355      22.196\n",
      "GrLivArea          53.6114      4.321     12.408      0.000      45.143      62.080\n",
      "FullBath        -6235.0639   2593.217     -2.404      0.016   -1.13e+04   -1152.452\n",
      "Fireplaces       5608.2779   1442.089      3.889      0.000    2781.836    8434.720\n",
      "GarageType       2.941e+04      2e+04      1.467      0.142   -9883.378    6.87e+04\n",
      "GarageCars       1.365e+04   2007.312      6.799      0.000    9712.744    1.76e+04\n",
      "GarageYrBlt       -31.4610      9.164     -3.433      0.001     -49.423     -13.499\n",
      "YrSold            652.2788    633.796      1.029      0.303    -589.938    1894.496\n",
      "TotalBsmtSF        31.1869      4.522      6.897      0.000      22.325      40.049\n",
      "KitchenAbvGr     9686.6369   9587.934      1.010      0.312   -9105.368    2.85e+04\n",
      "KitchenQual      8.985e+04   2.09e+04      4.294      0.000    4.88e+04    1.31e+05\n",
      "TotRmsAbvGrd      226.0473   1057.086      0.214      0.831   -1845.804    2297.898\n",
      "GarageFactor    -3869.6412   1595.794     -2.425      0.015   -6997.340    -741.943\n",
      "bedroomperrooms  -4.37e+04   1.02e+04     -4.272      0.000   -6.37e+04   -2.36e+04\n",
      "kitchenfactor   -5.808e+04   1.79e+04     -3.238      0.001   -9.32e+04   -2.29e+04\n",
      "==============================================================================\n",
      "Omnibus:                      201.477   Durbin-Watson:                   2.059\n",
      "Prob(Omnibus):                  0.000   Jarque-Bera (JB):             1134.988\n",
      "Skew:                           0.675   Prob(JB):                    3.47e-247\n",
      "Kurtosis:                       7.663   Cond. No.                     1.49e+05\n",
      "==============================================================================\n",
      "\n",
      "Notes:\n",
      "[1] R² is computed without centering (uncentered) since the model does not contain a constant.\n",
      "[2] Standard Errors are heteroscedasticity robust (HC1)\n",
      "[3] The condition number is large, 1.49e+05. This might indicate that there are\n",
      "strong multicollinearity or other numerical problems.\n"
     ]
    }
   ],
   "source": [
    "mod = sm.OLS(y_train,x_train)  \n",
    "res = mod.fit(cov_type='HC1')\n",
    "print(res.summary())"
   ]
  },
  {
   "cell_type": "code",
   "execution_count": 31,
   "id": "c228df05",
   "metadata": {},
   "outputs": [],
   "source": [
    "predctions=res.predict(x_test)"
   ]
  },
  {
   "cell_type": "code",
   "execution_count": 32,
   "id": "8ff424de",
   "metadata": {},
   "outputs": [
    {
     "data": {
      "text/plain": [
       "<matplotlib.lines._AxLine at 0x19eba1cdaf0>"
      ]
     },
     "execution_count": 32,
     "metadata": {},
     "output_type": "execute_result"
    },
    {
     "data": {
      "image/png": "[encoded data removed]",
      "text/plain": [
       "<Figure size 432x288 with 1 Axes>"
      ]
     },
     "metadata": {
      "needs_background": "light"
     },
     "output_type": "display_data"
    }
   ],
   "source": [
    "plt.scatter(y_test,predctions)\n",
    "plt.xlabel('Y Test')\n",
    "plt.ylabel('Predicted Y')\n",
    "plt.axline([0, 0], [1, 1],color = 'red')"
   ]
  },
  {
   "cell_type": "code",
   "execution_count": 33,
   "id": "bed31ae4",
   "metadata": {},
   "outputs": [
    {
     "name": "stdout",
     "output_type": "stream",
     "text": [
      "31539.440813155114\n"
     ]
    }
   ],
   "source": [
    "print(np.sqrt(metrics.mean_squared_error(y_test, predctions)))"
   ]
  },
  {
   "cell_type": "markdown",
   "id": "6d19737c",
   "metadata": {},
   "source": [
    "# GradientBoostingRegressor"
   ]
  },
  {
   "cell_type": "code",
   "execution_count": 39,
   "id": "5a13313b",
   "metadata": {},
   "outputs": [
    {
     "data": {
      "text/plain": [
       "0.87646008122496"
      ]
     },
     "execution_count": 39,
     "metadata": {},
     "output_type": "execute_result"
    }
   ],
   "source": [
    "reg = GradientBoostingRegressor(n_estimators=1250, learning_rate=0.01, max_depth=5, random_state=101).fit(x_train, y_train)\n",
    "reg.score(x_test, y_test)"
   ]
  },
  {
   "cell_type": "code",
   "execution_count": 40,
   "id": "a6a77ec8",
   "metadata": {},
   "outputs": [],
   "source": [
    "predctions=reg.predict(x_test)"
   ]
  },
  {
   "cell_type": "code",
   "execution_count": 41,
   "id": "a1194765",
   "metadata": {},
   "outputs": [
    {
     "data": {
      "text/plain": [
       "<matplotlib.lines._AxLine at 0x19eba263c40>"
      ]
     },
     "execution_count": 41,
     "metadata": {},
     "output_type": "execute_result"
    },
    {
     "data": {
      "image/png": "[encoded data removed]",
      "text/plain": [
       "<Figure size 432x288 with 1 Axes>"
      ]
     },
     "metadata": {
      "needs_background": "light"
     },
     "output_type": "display_data"
    }
   ],
   "source": [
    "plt.scatter(y_test,predctions)\n",
    "plt.xlabel('Y Test')\n",
    "plt.ylabel('Predicted Y')\n",
    "plt.axline([0, 0], [1, 1],color = 'red')"
   ]
  },
  {
   "cell_type": "code",
   "execution_count": 42,
   "id": "f4303a02",
   "metadata": {},
   "outputs": [
    {
     "name": "stdout",
     "output_type": "stream",
     "text": [
      "26219.56663567718\n"
     ]
    }
   ],
   "source": [
    "print(np.sqrt(metrics.mean_squared_error(y_test, predctions)))"
   ]
  },
  {
   "cell_type": "markdown",
   "id": "74cff767",
   "metadata": {},
   "source": [
    "# SUBMITION"
   ]
  },
  {
   "cell_type": "code",
   "execution_count": null,
   "id": "e00fbf88",
   "metadata": {},
   "outputs": [],
   "source": [
    "#Garage\n",
    "test['GarageType'] = test.apply(lambda x: GarageType(x['GarageType']),axis=1)\n",
    "test['GarageFinish'] = test.apply(lambda x: GarageFinish(x['GarageFinish']),axis=1)\n",
    "test['GarageFactor']= test['GarageArea']*test['GarageFinish']*test['GarageType']\n",
    "test['GarageFactor'] = test.apply(lambda x: GarageFactor(x['GarageFactor']),axis=1)\n",
    "\n",
    "#Basement\n",
    "test['BsmtQual'] = test.apply(lambda x: qualfun(x['BsmtQual']),axis=1)\n",
    "test['BsmtCond'] = test.apply(lambda x: qualfun(x['BsmtCond']),axis=1)\n",
    "\n",
    "#Years\n",
    "test['YearBuilt']=2016-test['YearBuilt']\n",
    "test['YearRemodAdd']=2016-test['YearRemodAdd']\n",
    "test['YrSold']= 2016-test['YrSold']\n",
    "\n",
    "#Rooms\n",
    "test['KitchenQual']= test.apply(lambda x: qualfun(x['KitchenQual']),axis=1)\n",
    "test['bedroomperrooms']=test['BedroomAbvGr']/test['TotRmsAbvGrd']\n",
    "test['kitchenfactor']=test['KitchenAbvGr']*test['KitchenQual']\n",
    "\n",
    "\n",
    "test=test.fillna(0)"
   ]
  },
  {
   "cell_type": "code",
   "execution_count": null,
   "id": "5181a493",
   "metadata": {},
   "outputs": [],
   "source": [
    "test_x = test[x.columns]"
   ]
  },
  {
   "cell_type": "code",
   "execution_count": null,
   "id": "82b039ff",
   "metadata": {},
   "outputs": [],
   "source": [
    "predctions=reg.predict(test_x)\n",
    "predctions"
   ]
  },
  {
   "cell_type": "code",
   "execution_count": null,
   "id": "89549132",
   "metadata": {},
   "outputs": [],
   "source": [
    "my_submission = pd.DataFrame({'Id': test['Id'], 'SalePrice': predctions})"
   ]
  },
  {
   "cell_type": "code",
   "execution_count": null,
   "id": "16a9be79",
   "metadata": {},
   "outputs": [],
   "source": [
    "my_submission"
   ]
  },
  {
   "cell_type": "code",
   "execution_count": null,
   "id": "9071be5f",
   "metadata": {},
   "outputs": [],
   "source": [
    "my_submission.to_csv('sub.csv', index=False)"
   ]
  },
  {
   "cell_type": "code",
   "execution_count": null,
   "id": "f2ab12ec",
   "metadata": {},
   "outputs": [],
   "source": [
    "pd.set_option('display.max_columns', None)\n",
    "pd.set_option('display.max_rows', None)"
   ]
  },
  {
   "cell_type": "code",
   "execution_count": null,
   "id": "d488800b",
   "metadata": {},
   "outputs": [],
   "source": [
    "my_submission.columns"
   ]
  },
  {
   "cell_type": "code",
   "execution_count": null,
   "id": "ca065867",
   "metadata": {},
   "outputs": [],
   "source": [
    "my_submission[my_submission['Id']==2121]"
   ]
  },
  {
   "cell_type": "code",
   "execution_count": null,
   "id": "3aaf191e",
   "metadata": {},
   "outputs": [],
   "source": [
    "test_x[test_x['Id']==2121]"
   ]
  }
 ],
 "metadata": {
  "kernelspec": {
   "display_name": "Python 3 (ipykernel)",
   "language": "python",
   "name": "python3"
  },
  "language_info": {
   "codemirror_mode": {
    "name": "ipython",
    "version": 3
   },
   "file_extension": ".py",
   "mimetype": "text/x-python",
   "name": "python",
   "nbconvert_exporter": "python",
   "pygments_lexer": "ipython3",
   "version": "3.9.7"
  }
 },
 "nbformat": 4,
 "nbformat_minor": 5
}
